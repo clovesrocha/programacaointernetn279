{
  "nbformat": 4,
  "nbformat_minor": 0,
  "metadata": {
    "colab": {
      "provenance": [],
      "authorship_tag": "ABX9TyPlNTlQMiCkvXKbtINSY2Vr",
      "include_colab_link": true
    },
    "kernelspec": {
      "name": "python3",
      "display_name": "Python 3"
    },
    "language_info": {
      "name": "python"
    }
  },
  "cells": [
    {
      "cell_type": "markdown",
      "metadata": {
        "id": "view-in-github",
        "colab_type": "text"
      },
      "source": [
        "<a href=\"https://colab.research.google.com/github/clovesrocha/programacaointernetn279/blob/main/aula3.ipynb\" target=\"_parent\"><img src=\"https://colab.research.google.com/assets/colab-badge.svg\" alt=\"Open In Colab\"/></a>"
      ]
    },
    {
      "cell_type": "code",
      "execution_count": 2,
      "metadata": {
        "colab": {
          "base_uri": "https://localhost:8080/"
        },
        "id": "7RmIlS2MlTmB",
        "outputId": "8359e172-cf76-484b-ca6b-58e6ba46e98c"
      },
      "outputs": [
        {
          "output_type": "stream",
          "name": "stdout",
          "text": [
            "Olá, meu nome é Alice e eu tenho 30 anos.\n",
            "Olá, meu nome é Bruno e eu tenho 26 anos.\n",
            "Olá, meu nome é Carla e eu tenho 28 anos.\n",
            "Feliz aniversário! Agora Alice tem 31 anos.\n",
            "Olá, meu nome é Alice e eu tenho 31 anos.\n",
            "26\n",
            "Olá, meu nome é Bruno e eu tenho 26 anos.\n"
          ]
        }
      ],
      "source": [
        "class Pessoa:\n",
        "    def __init__(self, nome, idade):\n",
        "        self.nome = nome\n",
        "        self.idade = idade\n",
        "\n",
        "    def apresentar(self):\n",
        "        return f\"Olá, meu nome é {self.nome} e eu tenho {self.idade} anos.\"\n",
        "\n",
        "    def aniversario(self):\n",
        "        self.idade += 1\n",
        "        return f\"Feliz aniversário! Agora {self.nome} tem {self.idade} anos.\"\n",
        "\n",
        "# Criando objetos (instâncias) da classe Pessoa\n",
        "pessoa1 = Pessoa(\"Alice\", 30)\n",
        "pessoa2 = Pessoa(\"Bruno\", 26)\n",
        "pessoa3 = Pessoa(\"Carla\", 28)\n",
        "\n",
        "print(pessoa1.apresentar())\n",
        "print(pessoa2.apresentar())\n",
        "print(pessoa3.apresentar())\n",
        "\n",
        "print(pessoa1.aniversario())\n",
        "print(pessoa1.apresentar())\n",
        "\n",
        "print(pessoa2.idade) # Acessando um atributo diretamente\n",
        "pessoa2.idade = 26 # Modificando um atributo\n",
        "print(pessoa2.apresentar())"
      ]
    }
  ]
}